{
 "cells": [
  {
   "cell_type": "markdown",
   "id": "864b18f9",
   "metadata": {},
   "source": [
    "# Python advnced assignment 20"
   ]
  },
  {
   "cell_type": "markdown",
   "id": "477bb828",
   "metadata": {},
   "source": [
    "# 1. Create a function based on the input and output. Look at the examples, there is a pattern.\n",
    "\n",
    "Examples:\n",
    "    \n",
    "secret(\"p.one.two.three\") ➞ \"<p class='one two three'></p>\"\n",
    "\n",
    "secret(\"p.one\") ➞ \"<p class='one'></p>\"\n",
    "\n",
    "secret(\"p.four.five\") ➞ \"<p class='four five'></p>\""
   ]
  },
  {
   "cell_type": "code",
   "execution_count": 1,
   "id": "96eec3a9",
   "metadata": {},
   "outputs": [
    {
     "name": "stdout",
     "output_type": "stream",
     "text": [
      "<p class='one two three'></p>\n",
      "<p class='one'></p>\n",
      "<p class='four five'></p>\n"
     ]
    }
   ],
   "source": [
    "def secret(s):\n",
    "    s1 = ''\n",
    "    l = s.split('.')\n",
    "    s1 += '<' + l[0] + \" class='\"\n",
    "    \n",
    "    for i in range(1,len(l)):\n",
    "        s1 += l[i] + ' '\n",
    "        \n",
    "    return s1.strip() +\"'></\"+l[0]+\">\"    \n",
    "    \n",
    "print(secret(\"p.one.two.three\"))\n",
    "print(secret(\"p.one\"))\n",
    "print(secret(\"p.four.five\"))"
   ]
  },
  {
   "cell_type": "markdown",
   "id": "adf37951",
   "metadata": {},
   "source": [
    "# 2. Create a function which counts how many lone 1s appear in a given number. Lone means the number doesn't appear twice or more in a row.\n",
    "\n",
    "Examples:\n",
    "\n",
    "count_lone_ones(101) ➞ 2\n",
    "\n",
    "count_lone_ones(1191) ➞ 1\n",
    "\n",
    "count_lone_ones(1111) ➞ 0\n",
    "\n",
    "count_lone_ones(462) ➞ 0"
   ]
  },
  {
   "cell_type": "code",
   "execution_count": 2,
   "id": "af228d9a",
   "metadata": {},
   "outputs": [
    {
     "name": "stdout",
     "output_type": "stream",
     "text": [
      "coint_lone_ones(101) ➞ 2\n",
      "coint_lone_ones(1191) ➞ 1\n",
      "coint_lone_ones(1111) ➞ 0\n",
      "coint_lone_ones(462) ➞ 0\n"
     ]
    }
   ],
   "source": [
    "import re\n",
    "def count_lone_ones(in_num):\n",
    "    pattern = r\"(?<!1)1(?!1)\" \n",
    "    output = re.findall(pattern,str(in_num))\n",
    "    print(f'coint_lone_ones({in_num}) ➞ {len(output)}')\n",
    "    \n",
    "count_lone_ones(101)\n",
    "count_lone_ones(1191)\n",
    "count_lone_ones(1111)\n",
    "count_lone_ones(462)"
   ]
  },
  {
   "cell_type": "code",
   "execution_count": 3,
   "id": "d5af83b5",
   "metadata": {},
   "outputs": [
    {
     "name": "stdout",
     "output_type": "stream",
     "text": [
      "2\n",
      "1\n",
      "0\n"
     ]
    }
   ],
   "source": [
    "def count_lone_ones(n):\n",
    "    n = str(n)\n",
    "    count = 0\n",
    "    \n",
    "    if n[0] == '1' and n[1] != '1':\n",
    "        count += 1\n",
    "        \n",
    "    for i in range(2,len(n)):\n",
    "        if n[i] == '1' and n[i-1] != '1':\n",
    "            count += 1\n",
    "            \n",
    "    return count\n",
    "\n",
    "print(count_lone_ones(101))\n",
    "print(count_lone_ones(1191))\n",
    "print(count_lone_ones(1111))"
   ]
  },
  {
   "cell_type": "markdown",
   "id": "d99c7381",
   "metadata": {},
   "source": [
    "# 3. Write a method that accepts two integer parameters rows and cols. The output is a 2d array of numbers displayed in column-major order, meaning the numbers shown increase sequentially down each column and wrap to the top of the next column to the right once the bottom of the current column is reached.\n",
    "\n",
    "Examples:\n",
    "    \n",
    "printGrid(3, 6) ➞ \n",
    "[\n",
    "  [1, 4, 7, 10, 13, 16],\n",
    "  [2, 5, 8, 11, 14, 17],\n",
    "  [3, 6, 9, 12, 15, 18]\n",
    "]\n",
    "\n",
    "printGrid(5, 3) ➞ \n",
    "[\n",
    "  [1, 6, 11],\n",
    "  [2, 7, 12],\n",
    "  [3, 8, 13],\n",
    "  [4, 9, 14],\n",
    "  [5, 10, 15]\n",
    "]\n",
    "\n",
    "printGrid(4, 1) ➞ \n",
    "[\n",
    "  [1],\n",
    "  [2],\n",
    "  [3],\n",
    "  [4]\n",
    "]"
   ]
  },
  {
   "cell_type": "code",
   "execution_count": 7,
   "id": "5af7c3d7",
   "metadata": {},
   "outputs": [
    {
     "name": "stdout",
     "output_type": "stream",
     "text": [
      "[[1, 4, 7, 10, 13, 16], [2, 5, 8, 11, 14, 17], [3, 6, 9, 12, 15, 18]]\n",
      "[[1, 6, 11], [2, 7, 12], [3, 8, 13], [4, 9, 14], [5, 10, 15]]\n",
      "[[1], [2], [3], [4]]\n"
     ]
    }
   ],
   "source": [
    "def printGrid(r,c):\n",
    "    l = []\n",
    "    for i in range(r):\n",
    "        l1 = []\n",
    "        for j in range(c):\n",
    "            l1.append((i+1)+j*r)\n",
    "\n",
    "        l.append(l1)    \n",
    "\n",
    "    return l \n",
    "\n",
    "print(printGrid(3, 6))\n",
    "print(printGrid(5, 3))\n",
    "print(printGrid(4, 1))"
   ]
  },
  {
   "cell_type": "markdown",
   "id": "0c28e98d",
   "metadata": {},
   "source": [
    "# 4. Given a list of integers, return the smallest positive integer not present in the list.\n",
    "Here is a representative example.\n",
    "Consider the list: [-2, 6, 4, 5, 7, -1, 7, 1, 3, 6, 6, -2, 9, 10, 2, 2]\n",
    "After reordering, the list becomes: [-2, -2, -1, 1, 2, 2, 3, 4, 5, 6, 6, 6, 7, 7, 9, 10]\n",
    "from which we see that the smallest missing positive integer is 8.\n",
    "\n",
    "Examples:\n",
    "min_miss_pos([-2, 6, 4, 5, 7, -1, 1, 3, 6, -2, 9, 10, 2, 2]) ➞ 8\n",
    "## After sorting, list becomes [-2, -2, -1, 1, 2, 2, 3, 4, 5, 6, 6, 7, 9, 10]\n",
    "## So the smallest missing positive integer is 8\n",
    "\n",
    "min_miss_pos([5, 9, -2, 0, 1, 3, 9, 3, 8, 9]) ➞ 2\n",
    "## After sorting, list becomes [-2, 0, 1, 3, 3, 5, 8, 9, 9, 9]\n",
    "## So the smallest missing positive integer is 2\n",
    "\n",
    "min_miss_pos([0, 4, 4, -1, 9, 4, 5, 2, 10, 7, 6, 3, 10, 9]) ➞ 1\n",
    "## After sorting, list becomes [-1, 0, 2, 3, 4, 4, 4, 5, 6, 7, 9, 9, 10, 10]\n",
    "## So the smallest missing positive integer is 1"
   ]
  },
  {
   "cell_type": "code",
   "execution_count": 8,
   "id": "0adb5d83",
   "metadata": {},
   "outputs": [],
   "source": [
    "def min_miss_pos(lst):\n",
    "    pos=[i for i in range(1,11)]\n",
    "    for i in lst:\n",
    "        if i <0:\n",
    "            lst.remove(i)\n",
    "    lst=list(set(pos).difference(lst))\n",
    "    lst.sort()\n",
    "    return lst[0]"
   ]
  },
  {
   "cell_type": "code",
   "execution_count": 9,
   "id": "bee96b76",
   "metadata": {},
   "outputs": [
    {
     "data": {
      "text/plain": [
       "8"
      ]
     },
     "execution_count": 9,
     "metadata": {},
     "output_type": "execute_result"
    }
   ],
   "source": [
    "min_miss_pos([-2, 6, 4, 5, 7, -1, 1, 3, 6, -2, 9, 10, 2, 2])"
   ]
  },
  {
   "cell_type": "code",
   "execution_count": 10,
   "id": "5667695b",
   "metadata": {},
   "outputs": [
    {
     "data": {
      "text/plain": [
       "2"
      ]
     },
     "execution_count": 10,
     "metadata": {},
     "output_type": "execute_result"
    }
   ],
   "source": [
    "min_miss_pos([5, 9, -2, 0, 1, 3, 9, 3, 8, 9]) "
   ]
  },
  {
   "cell_type": "code",
   "execution_count": 11,
   "id": "afa7fc8e",
   "metadata": {},
   "outputs": [
    {
     "data": {
      "text/plain": [
       "1"
      ]
     },
     "execution_count": 11,
     "metadata": {},
     "output_type": "execute_result"
    }
   ],
   "source": [
    "min_miss_pos([0, 4, 4, -1, 9, 4, 5, 2, 10, 7, 6, 3, 10, 9])"
   ]
  },
  {
   "cell_type": "markdown",
   "id": "441723e6",
   "metadata": {},
   "source": [
    "# 5. Google is launching a network of autonomous pizza delivery drones and wants you to create a flexible rewards system (Pizza Points™) that can be tweaked in the future. The rules are simple: if a customer has made at least N orders of at least Y price, they get a FREE pizza!\n",
    "Create a function that takes a dictionary of customers, a minimum number of orders and a minimum order price. Return a list of customers that are eligible for a free pizza.\n",
    "\n",
    "Examples:\n",
    "\n",
    "customers = {\n",
    "    \n",
    "  \"Batman\": [22, 30, 11, 17, 15, 52, 27, 12],\n",
    "    \n",
    "  \"Spider-Man\": [5, 17, 30, 33, 40, 22, 26, 10, 11, 45]\n",
    "}\n",
    "\n",
    "pizza_points(customers, 5, 20) ➞ [\"Spider-Man\"]\n",
    "\n",
    "pizza_points(customers, 3, 10) ➞ [\"Batman\", \"Spider-Man\"]\n",
    "\n",
    "pizza_points(customers, 5, 100) ➞ []"
   ]
  },
  {
   "cell_type": "code",
   "execution_count": 12,
   "id": "8c5279c9",
   "metadata": {},
   "outputs": [
    {
     "name": "stdout",
     "output_type": "stream",
     "text": [
      "['Spider-Man']\n",
      "['Batman', 'Spider-Man']\n",
      "[]\n"
     ]
    }
   ],
   "source": [
    "def pizza_points(customers, min_order, min_order_price):\n",
    "    l = []\n",
    "    for key,value in customers.items():\n",
    "        count = 0        \n",
    "        for i in value:\n",
    "            if i >= min_order_price:\n",
    "                count += 1\n",
    "\n",
    "        if count >= min_order:\n",
    "            l.append(key)\n",
    "    return l\n",
    "\n",
    "customers = { \"Batman\": [22, 30, 11, 17, 15, 52, 27, 12], \"Spider-Man\": [5, 17, 30, 33, 40, 22, 26, 10, 11, 45] }\n",
    "print(pizza_points(customers,5,20))\n",
    "print(pizza_points(customers,3,10))\n",
    "print(pizza_points(customers,5,100))"
   ]
  },
  {
   "cell_type": "code",
   "execution_count": 13,
   "id": "ca2bc67d",
   "metadata": {},
   "outputs": [
    {
     "name": "stdout",
     "output_type": "stream",
     "text": [
      "pizza_points('customers', 5, 20) ➞ ['Spider-Man']\n",
      "pizza_points('customers', 3, 10) ➞ ['Batman', 'Spider-Man']\n",
      "pizza_points('customers', 5, 100) ➞ []\n"
     ]
    }
   ],
   "source": [
    "def pizza_points(in_dict,min_order,min_price):\n",
    "    output = []\n",
    "    for customer in in_dict.keys():\n",
    "        if len([order_price for order_price in in_dict[customer] if order_price > min_price]) > min_order:\n",
    "            output.append(customer)\n",
    "    print(f'pizza_points{\"customers\",min_order,min_price} ➞ {output}')\n",
    "\n",
    "customers = {\n",
    "  \"Batman\": [22, 30, 11, 17, 15, 52, 27, 12],\n",
    "  \"Spider-Man\": [5, 17, 30, 33, 40, 22, 26, 10, 11, 45]\n",
    "}\n",
    "    \n",
    "pizza_points(customers, 5, 20)\n",
    "pizza_points(customers, 3, 10)\n",
    "pizza_points(customers, 5, 100)"
   ]
  }
 ],
 "metadata": {
  "kernelspec": {
   "display_name": "Python 3 (ipykernel)",
   "language": "python",
   "name": "python3"
  },
  "language_info": {
   "codemirror_mode": {
    "name": "ipython",
    "version": 3
   },
   "file_extension": ".py",
   "mimetype": "text/x-python",
   "name": "python",
   "nbconvert_exporter": "python",
   "pygments_lexer": "ipython3",
   "version": "3.9.7"
  }
 },
 "nbformat": 4,
 "nbformat_minor": 5
}

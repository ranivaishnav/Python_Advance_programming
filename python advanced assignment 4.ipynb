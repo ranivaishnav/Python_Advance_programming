{
 "cells": [
  {
   "cell_type": "markdown",
   "id": "aa30aef3",
   "metadata": {},
   "source": [
    "# Python Advanced assignment 4"
   ]
  },
  {
   "cell_type": "markdown",
   "id": "a2a09ec5",
   "metadata": {},
   "source": [
    "## 1. In mathematics, the Fibonacci numbers, commonly denoted Fn, form a\n",
    "sequence, called the Fibonacci sequence, such that each number is the sum\n",
    "of the two preceding ones, starting from 0 and 1:\n",
    "\n",
    "The beginning of the sequence is this:\n",
    "0, 1, 1, 2, 3, 5, 8, 13, 21, 34, 55, 89, 144, ...\n",
    "The function fastFib(num) returns the fibonacci number Fn, of the given num\n",
    "as an argument.\n",
    "\n",
    "Examples\n",
    "\n",
    "fib_fast(5) ➞ 5\n",
    "\n",
    "fib_fast(10) ➞ 55\n",
    "\n",
    "fib_fast(20) ➞ 6765\n",
    "\n",
    "fib_fast(50) ➞ 12586269025"
   ]
  },
  {
   "cell_type": "code",
   "execution_count": 1,
   "id": "e6a671cc",
   "metadata": {},
   "outputs": [
    {
     "name": "stdout",
     "output_type": "stream",
     "text": [
      "5\n",
      "55\n",
      "6765\n"
     ]
    }
   ],
   "source": [
    "def fib_fast(n):\n",
    "    if n == 0:\n",
    "        return 0\n",
    "    if n == 1 or n == 2:\n",
    "        return 1\n",
    "    if n > 1:\n",
    "        return fib_fast(n-1) + fib_fast(n-2)\n",
    "    \n",
    "print(fib_fast(5))\n",
    "print(fib_fast(10))\n",
    "print(fib_fast(20))"
   ]
  },
  {
   "cell_type": "markdown",
   "id": "0d0474b1",
   "metadata": {},
   "source": [
    "## 2. Create a function that takes a strings characters as ASCII and returns each characters hexadecimal value as a string.\n",
    "Examples\n",
    "\n",
    "convert_to_hex(\"hello world\") ➞ \"68 65 6c 6c 6f 20 77 6f 72 6c 64\"\n",
    "\n",
    "convert_to_hex(\"Big Boi\") ➞ \"42 69 67 20 42 6f 69\"\n",
    "\n",
    "convert_to_hex(\"Marty Poppinson\") ➞ \"4d 61 72 74 79 20 50 6f 70 70 69 6e 73 6f 6e\""
   ]
  },
  {
   "cell_type": "code",
   "execution_count": 2,
   "id": "30068f58",
   "metadata": {},
   "outputs": [
    {
     "name": "stdout",
     "output_type": "stream",
     "text": [
      "68 65 6c 6c 6f 20 77 6f 72 6c 64\n",
      "42 69 67 20 42 6f 69\n",
      "4d 61 72 74 79 20 50 6f 70 70 69 6e 73 6f 6e\n"
     ]
    }
   ],
   "source": [
    "def convert_to_hex(s):\n",
    "    s = s.encode('utf-8')\n",
    "    return s.hex(' ')\n",
    "\n",
    "print(convert_to_hex(\"hello world\"))\n",
    "print(convert_to_hex(\"Big Boi\"))\n",
    "print(convert_to_hex(\"Marty Poppinson\"))"
   ]
  },
  {
   "cell_type": "markdown",
   "id": "38f8a787",
   "metadata": {},
   "source": [
    "## 3. Someone has attempted to censor my strings by replacing every vowel with a , lk ths. Luckily, I've been able to find the vowels that were removed.\n",
    "Given a censored string and a string of the censored vowels, return the original uncensored string.\n",
    "\n",
    "Example\n",
    "\n",
    "uncensor(\"Whr dd my vwls g?\", \"eeioeo\") ➞ \"Where did my vowels go?\"\n",
    "\n",
    "uncensor(\"abcd\", \"\") ➞ \"abcd\"\n",
    "\n",
    "uncensor(\"PPRCS\", \"UEAE\") ➞ \"UPPERCASE\""
   ]
  },
  {
   "cell_type": "code",
   "execution_count": 5,
   "id": "0a16f133",
   "metadata": {},
   "outputs": [
    {
     "name": "stdout",
     "output_type": "stream",
     "text": [
      "Where did my vowels go?\n",
      "abcd\n",
      "UPPERCASE\n"
     ]
    }
   ],
   "source": [
    "def uncensor(s,s1):\n",
    "    i = 0 \n",
    "    \n",
    "    for letter in s:\n",
    "        if letter == '*':\n",
    "            s = s.replace('*', s1[i],1)\n",
    "            i += 1\n",
    "    return s\n",
    "\n",
    "print(uncensor(\"Wh*r* d*d my v*w*ls g*?\", \"eeioeo\"))\n",
    "print(uncensor(\"abcd\", \"\"))\n",
    "print(uncensor(\"*PP*RC*S*\", \"UEAE\"))"
   ]
  },
  {
   "cell_type": "markdown",
   "id": "52c1817b",
   "metadata": {},
   "source": [
    "## 4. Write a function that takes an IP address and returns the domain name using PTR DNS records.\n",
    "Example\n",
    "\n",
    "get_domain(\"8.8.8.8\") ➞ \"dns.google\"\n",
    "\n",
    "get_domain(\"8.8.4.4\") ➞ \"dns.google\""
   ]
  },
  {
   "cell_type": "code",
   "execution_count": 6,
   "id": "5da6d882",
   "metadata": {},
   "outputs": [
    {
     "name": "stdout",
     "output_type": "stream",
     "text": [
      "dns.google\n",
      "dns.google\n",
      "ineuron.interactivedns.com\n"
     ]
    }
   ],
   "source": [
    "import socket\n",
    "\n",
    "def get_domain(ip_address):\n",
    "    return socket.gethostbyaddr(ip_address)[0]\n",
    "\n",
    "print(get_domain(\"8.8.8.8\"))\n",
    "print(get_domain(\"8.8.4.4\"))\n",
    "print(get_domain(\"172.105.51.234\"))"
   ]
  },
  {
   "cell_type": "markdown",
   "id": "ad75cfd4",
   "metadata": {},
   "source": [
    "## 5. Create a function that takes an integer n and returns the factorial of factorials. See below examples for a better understanding:\n",
    "Examples\n",
    "\n",
    "fact_of_fact(4) ➞ 288\n",
    "\n",
    "4! 3! 2! * 1! = 288\n",
    "fact_of_fact(5) ➞ 34560\n",
    "\n",
    "fact_of_fact(6) ➞ 24883200"
   ]
  },
  {
   "cell_type": "code",
   "execution_count": 7,
   "id": "52624739",
   "metadata": {},
   "outputs": [
    {
     "name": "stdout",
     "output_type": "stream",
     "text": [
      "288\n",
      "34560\n",
      "24883200\n"
     ]
    }
   ],
   "source": [
    "def fact(n):\n",
    "    if n == 0 or n == 1:\n",
    "        return 1\n",
    "    \n",
    "    else:\n",
    "        return n * fact(n-1)\n",
    "    \n",
    "def fact_of_fact(n):\n",
    "    result = 1\n",
    "    while n > 1:\n",
    "        result *= fact(n)\n",
    "        n -= 1\n",
    "    return result   \n",
    "\n",
    "print(fact_of_fact(4)) \n",
    "print(fact_of_fact(5))\n",
    "print(fact_of_fact(6))"
   ]
  }
 ],
 "metadata": {
  "kernelspec": {
   "display_name": "Python 3 (ipykernel)",
   "language": "python",
   "name": "python3"
  },
  "language_info": {
   "codemirror_mode": {
    "name": "ipython",
    "version": 3
   },
   "file_extension": ".py",
   "mimetype": "text/x-python",
   "name": "python",
   "nbconvert_exporter": "python",
   "pygments_lexer": "ipython3",
   "version": "3.9.7"
  }
 },
 "nbformat": 4,
 "nbformat_minor": 5
}

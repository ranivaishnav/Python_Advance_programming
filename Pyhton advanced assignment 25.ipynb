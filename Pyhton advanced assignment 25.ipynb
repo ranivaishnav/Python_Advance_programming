{
 "cells": [
  {
   "cell_type": "markdown",
   "id": "4e16c856",
   "metadata": {},
   "source": [
    "## Python advanced assignment 25"
   ]
  },
  {
   "cell_type": "markdown",
   "id": "ce6ad2b0",
   "metadata": {},
   "source": [
    "## 1. Write four functions that directly mutate a list:\n",
    "\n",
    "1.repeat(lst, n): Repeat lst n times.\n",
    "\n",
    "2.add(lst, x): Adds x to the end of the lst.\n",
    "\n",
    "3.remove(lst, m, n): Removes all elements between indices m and n inclusive in lst.\n",
    "\n",
    "4.concat(lst, x): concatenates lst with x (another list). Examples:\n",
    "\n",
    "lst = [1, 2, 3, 4]\n",
    "\n",
    "repeat(lst, 3) ➞ [1, 2, 3, 4, 1, 2, 3, 4, 1, 2, 3, 4]\n",
    "\n",
    "add(lst, 1) ➞ [1, 2, 3, 4, 1, 2, 3, 4, 1, 2, 3, 4, 1]\n",
    "\n",
    "remove(lst, 1, 12) ➞ [1]\n",
    "\n",
    "concat(lst, [3, 4]) ➞ [1, 3, 4]"
   ]
  },
  {
   "cell_type": "code",
   "execution_count": 1,
   "id": "f8d19e00",
   "metadata": {},
   "outputs": [
    {
     "name": "stdout",
     "output_type": "stream",
     "text": [
      "repeat(3) ➞ [1, 2, 3, 4, 1, 2, 3, 4, 1, 2, 3, 4]\n",
      "add(1) ➞ [1, 2, 3, 4, 1, 2, 3, 4, 1, 2, 3, 4, 1]\n",
      "remove(lst, 1, 12) ➞ [1]\n",
      "concat([3, 4]) ➞ [1, 3, 4]\n"
     ]
    }
   ],
   "source": [
    "lst = [1, 2, 3, 4]\n",
    "\n",
    "def repeat(in_num):\n",
    "    global lst\n",
    "    lst = lst*in_num\n",
    "    return lst\n",
    "\n",
    "def add(in_num):\n",
    "    global lst\n",
    "    lst.append(in_num)\n",
    "    return lst\n",
    "\n",
    "def remove(start,end):\n",
    "    global lst\n",
    "    for ele in lst[start:end+1]:\n",
    "        lst.remove(ele)\n",
    "    return lst\n",
    "\n",
    "def concat(in_list):\n",
    "    global lst\n",
    "    lst = lst+in_list\n",
    "    return lst\n",
    "\n",
    "print(f'repeat(3) ➞ {repeat(3)}')\n",
    "print(f'add(1) ➞ {add(1)}')\n",
    "print(f'remove(lst, 1, 12) ➞ {remove(1,12)}')\n",
    "print(f'concat([3, 4]) ➞ {concat([3, 4])}')"
   ]
  },
  {
   "cell_type": "markdown",
   "id": "4379a5b9",
   "metadata": {},
   "source": [
    "## 2. The classic game of Mastermind is played on a tray on which the Mastermind conceals a code and the Guesser has 10 tries to guess it. The code is a sequence of 4 (or 6, sometimes more) pegs of different colors. Each guess is a corresponding sequence of 4 (or more) pegs of different colors. A guess is \"correct\" when the color of every peg in the guess exactly matches the corresponding peg in the Mastermind's code.\n",
    "\n",
    "After each guess by the Guesser, the Mastermind will give a score comprising black & white pegs, not arranged in any order:\n",
    "\n",
    "Black peg == guess peg matches the color of a code peg in the same position.\n",
    "White peg == guess peg matches the color of a code peg in another position.\n",
    "Create a function that takes two strings, code and guess as arguments, and returns the score in a dictionary.\n",
    "\n",
    "The code and guess are strings of numeric digits\n",
    "The color of the pegs are represented by numeric digits\n",
    "no \"peg\" may be double-scored\n",
    "\n",
    "Examples:\n",
    "    \n",
    "guess_score(\"1423\", \"5678\") ➞ {\"black\": 0, \"white\": 0}\n",
    "guess_score(\"1423\", \"2222\") ➞ {\"black\": 1, \"white\": 0}\n",
    "guess_score(\"1423\", \"1234\") ➞ {\"black\": 1, \"white\": 3}\n",
    "guess_score(\"1423\", \"2211\") ➞ {\"black\": 0, \"white\": 2}"
   ]
  },
  {
   "cell_type": "code",
   "execution_count": 2,
   "id": "12cac225",
   "metadata": {},
   "outputs": [
    {
     "name": "stdout",
     "output_type": "stream",
     "text": [
      "guess_score('1423', '5678') ➞ {'black': 0, 'white': 0}\n",
      "guess_score('1423', '2222') ➞ {'black': 1, 'white': 0}\n",
      "guess_score('1423', '1234') ➞ {'black': 1, 'white': 3}\n",
      "guess_score('1423', '2211') ➞ {'black': 0, 'white': 2}\n"
     ]
    }
   ],
   "source": [
    "def guess_score(code,guess):\n",
    "    output = {\"black\":0,\"white\":0}\n",
    "    for ele in range(len(code)): \n",
    "        if code[ele] == guess[ele]:\n",
    "            output['black'] += 1\n",
    "        elif code[ele] in guess and ele != guess.index(code[ele]):\n",
    "            output['white'] += 1\n",
    "    print(f'guess_score{code,guess} ➞ {output}')\n",
    "        \n",
    "guess_score(\"1423\", \"5678\")\n",
    "guess_score(\"1423\", \"2222\")\n",
    "guess_score(\"1423\", \"1234\") \n",
    "guess_score(\"1423\", \"2211\")"
   ]
  },
  {
   "cell_type": "code",
   "execution_count": 3,
   "id": "0cb2ab34",
   "metadata": {},
   "outputs": [],
   "source": [
    "# solution 2\n",
    "# Ans : \n",
    "def guess_score(code, guesser):\n",
    "    \n",
    "    dict = {'black' : 0, 'white' : 0}\n",
    "    BlackCnt = 0\n",
    "    whiteCnt = 0\n",
    "\n",
    "    if len(code) != len(guesser):\n",
    "        print('code and guesser are of not of equal lenth')\n",
    "        return False\n",
    "\n",
    "    code = [code[x] for x in range(len(code))]    # converting string of numbers in to list\n",
    "  \n",
    "    # find the black match\n",
    "    for i in range(len(guesser)):\n",
    "        if code[i] == guesser[i]:                # matching the index for black match\n",
    "            code[i] = '-'                        # if found replacing the match with '-'\n",
    "            BlackCnt += 1 \n",
    "            dict['black'] = BlackCnt             # updating the black count\n",
    "            \n",
    "    #for white matches\n",
    "    for i in range(len(guesser)):\n",
    "        for j in range(len(code)):               # for white match they can be in any index, traverse through the string\n",
    "            if guesser[i] == code[j]:\n",
    "                code[j] = '-'                    # if found replace with '-'\n",
    "                whiteCnt += 1\n",
    "                dict['white'] = whiteCnt         # update the count \n",
    "\n",
    "    return dict"
   ]
  },
  {
   "cell_type": "code",
   "execution_count": 4,
   "id": "91793772",
   "metadata": {},
   "outputs": [
    {
     "data": {
      "text/plain": [
       "{'black': 0, 'white': 0}"
      ]
     },
     "execution_count": 4,
     "metadata": {},
     "output_type": "execute_result"
    }
   ],
   "source": [
    "guess_score('1423', '5678')"
   ]
  },
  {
   "cell_type": "code",
   "execution_count": 5,
   "id": "d09d512e",
   "metadata": {},
   "outputs": [
    {
     "data": {
      "text/plain": [
       "{'black': 1, 'white': 0}"
      ]
     },
     "execution_count": 5,
     "metadata": {},
     "output_type": "execute_result"
    }
   ],
   "source": [
    "guess_score('1423', '2222')"
   ]
  },
  {
   "cell_type": "code",
   "execution_count": 6,
   "id": "59670e2c",
   "metadata": {},
   "outputs": [
    {
     "data": {
      "text/plain": [
       "{'black': 1, 'white': 3}"
      ]
     },
     "execution_count": 6,
     "metadata": {},
     "output_type": "execute_result"
    }
   ],
   "source": [
    "guess_score('1423', '1234')"
   ]
  },
  {
   "cell_type": "code",
   "execution_count": 7,
   "id": "43ff6ba9",
   "metadata": {},
   "outputs": [
    {
     "data": {
      "text/plain": [
       "{'black': 0, 'white': 2}"
      ]
     },
     "execution_count": 7,
     "metadata": {},
     "output_type": "execute_result"
    }
   ],
   "source": [
    "guess_score('1423', '2211')"
   ]
  },
  {
   "cell_type": "markdown",
   "id": "631fde12",
   "metadata": {},
   "source": [
    "## 3. Create a function that takes a list lst and a number N and returns a list of two integers from lst whose product equals N.\n",
    "\n",
    "Examples:\n",
    "\n",
    "    two_product([1, 2, -1, 4, 5], 20) ➞ [4, 5]\n",
    "\n",
    "    two_product([1, 2, 3, 4, 5], 10) ➞ [2, 5]\n",
    "\n",
    "    two_product([100, 12, 4, 1, 2], 15) ➞ None"
   ]
  },
  {
   "cell_type": "code",
   "execution_count": 8,
   "id": "21c95b92",
   "metadata": {},
   "outputs": [
    {
     "name": "stdout",
     "output_type": "stream",
     "text": [
      "two_product([1, 2, -1, 4, 5]) ➞ [4, 5]\n",
      "two_product([1, 2, 3, 4, 5]) ➞ [2, 5]\n",
      "two_product([100, 12, 4, 1, 2]) ➞ None\n"
     ]
    }
   ],
   "source": [
    "def two_product(in_list,in_num):\n",
    "    output = None\n",
    "    for num_1 in in_list:\n",
    "        for num_2 in in_list:\n",
    "            if num_1*num_2 == in_num:\n",
    "                output = sorted([num_1,num_2])\n",
    "                break\n",
    "    print(f'two_product({in_list}) ➞ {output}')\n",
    "    \n",
    "two_product([1, 2, -1, 4, 5], 20)\n",
    "two_product([1, 2, 3, 4, 5], 10)\n",
    "two_product([100, 12, 4, 1, 2], 15)"
   ]
  },
  {
   "cell_type": "code",
   "execution_count": 11,
   "id": "e95afbf1",
   "metadata": {},
   "outputs": [],
   "source": [
    "# solution 2\n",
    "def two_product(lst, n):\n",
    "    lst = sorted(lst,reverse = True)\n",
    "    divisors = []\n",
    "    for i in range(len(lst)):\n",
    "        for j in range(i+1,len(lst)):\n",
    "            if lst[i]*lst[j] == n:\n",
    "                divisors.append(lst[i])            \n",
    "                divisors.append(lst[j])\n",
    "                break            \n",
    "    return sorted(divisors)"
   ]
  },
  {
   "cell_type": "code",
   "execution_count": 12,
   "id": "07c51318",
   "metadata": {},
   "outputs": [
    {
     "data": {
      "text/plain": [
       "[4, 5]"
      ]
     },
     "execution_count": 12,
     "metadata": {},
     "output_type": "execute_result"
    }
   ],
   "source": [
    "two_product([1, 2, -1, 4, 5], 20)"
   ]
  },
  {
   "cell_type": "code",
   "execution_count": 13,
   "id": "51924ee4",
   "metadata": {},
   "outputs": [
    {
     "data": {
      "text/plain": [
       "[2, 5]"
      ]
     },
     "execution_count": 13,
     "metadata": {},
     "output_type": "execute_result"
    }
   ],
   "source": [
    "two_product([1, 2, 3, 4, 5], 10)"
   ]
  },
  {
   "cell_type": "code",
   "execution_count": 14,
   "id": "bf5d7aac",
   "metadata": {},
   "outputs": [
    {
     "data": {
      "text/plain": [
       "[]"
      ]
     },
     "execution_count": 14,
     "metadata": {},
     "output_type": "execute_result"
    }
   ],
   "source": [
    "two_product([100, 12, 4, 1, 2], 15)"
   ]
  },
  {
   "cell_type": "markdown",
   "id": "032ff200",
   "metadata": {},
   "source": [
    "## 4. In this challenge, sort a list containing a series of dates given as strings. Each date is given in the format DD-MM-YYYY_HH:MM:\n",
    "\"12-02-2012_13:44\"\n",
    "\n",
    "The priority of criteria used for sorting will be:\n",
    "\n",
    "Year\n",
    "Month\n",
    "Day\n",
    "Hours\n",
    "Minutes\n",
    "Given a list lst and a string mode, implement a function that returns:\n",
    "\n",
    "if mode is equal to \"ASC\", the list lst sorted in ascending order.\n",
    "if mode is equal to \"DSC\", the list lst sorted in descending order.\n",
    "\n",
    "Examples:\n",
    "\n",
    "sort_dates([\"10-02-2018_12:30\", \"10-02-2016_12:30\", \"10-02-2018_12:15\"], \"ASC\") ➞ [\"10-02-2016_12:30\", \"10-02-2018_12:15\", \"10-02-2018_12:30\"]\n",
    "\n",
    "sort_dates([\"10-02-2018_12:30\", \"10-02-2016_12:30\", \"10-02-2018_12:15\"], \"DSC\") ➞ [\"10-02-2018_12:30\", \"10-02-2018_12:15\", \"10-02-2016_12:30\"]\n",
    "\n",
    "sort_dates([\"09-02-2000_10:03\", \"10-02-2000_18:29\", \"01-01-1999_00:55\"], \"ASC\") ➞ [\"01-01-1999_00:55\", \"09-02-2000_10:03\", \"10-02-2000_18:29\"]"
   ]
  },
  {
   "cell_type": "code",
   "execution_count": 15,
   "id": "8770802f",
   "metadata": {},
   "outputs": [
    {
     "name": "stdout",
     "output_type": "stream",
     "text": [
      "sort_dates(['10-02-2018_12:30', '10-02-2016_12:30', '10-02-2018_12:15'], 'ASC')➞ ['10-02-2016_12:30', '10-02-2018_12:15', '10-02-2018_12:30']\n",
      "sort_dates(['10-02-2018_12:30', '10-02-2016_12:30', '10-02-2018_12:15'], 'DSC')➞ ['10-02-2018_12:30', '10-02-2018_12:15', '10-02-2016_12:30']\n",
      "sort_dates(['09-02-2000_10:03', '10-02-2000_18:29', '01-01-1999_00:55'], 'ASC')➞ ['01-01-1999_00:55', '09-02-2000_10:03', '10-02-2000_18:29']\n"
     ]
    }
   ],
   "source": [
    "from datetime import datetime\n",
    "def sort_dates(in_list,sort_by):\n",
    "    in_list_clone = in_list.copy()\n",
    "    in_list_unix = []\n",
    "    for ele in in_list:\n",
    "        in_list_unix.append(datetime.strptime(ele, \"%d-%m-%Y_%H:%M\").timestamp())\n",
    "    in_list_unix = sorted(in_list_unix) if sort_by == 'ASC' else sorted(in_list_unix, reverse=True)\n",
    "    output = []\n",
    "    for ele in in_list_unix:\n",
    "        output.append(datetime.fromtimestamp(ele).strftime(\"%d-%m-%Y_%H:%M\"))\n",
    "    print(f'sort_dates{in_list,sort_by}➞ {output}')\n",
    "\n",
    "sort_dates([\"10-02-2018_12:30\", \"10-02-2016_12:30\", \"10-02-2018_12:15\"], \"ASC\")\n",
    "sort_dates([\"10-02-2018_12:30\", \"10-02-2016_12:30\", \"10-02-2018_12:15\"], \"DSC\")\n",
    "sort_dates([\"09-02-2000_10:03\", \"10-02-2000_18:29\", \"01-01-1999_00:55\"], \"ASC\")"
   ]
  },
  {
   "cell_type": "markdown",
   "id": "276dd16a",
   "metadata": {},
   "source": [
    "## 5. Write a function that selects all words that have all the same vowels (in any order and/or number) as the first word, including the first word.\n",
    "\n",
    "Examples:\n",
    "\n",
    "    same_vowel_group([\"toe\", \"ocelot\", \"maniac\"]) ➞ [\"toe\", \"ocelot\"]\n",
    "\n",
    "    same_vowel_group([\"many\", \"carriage\", \"emit\", \"apricot\", \"animal\"]) ➞ [\"many\", \"carriage\", \"apricot\", \"animal\"]\n",
    "\n",
    "    same_vowel_group([\"hoops\", \"chuff\", \"bot\", \"bottom\"]) ➞ [\"hoops\", \"bot\", \"bottom\"]"
   ]
  },
  {
   "cell_type": "code",
   "execution_count": 16,
   "id": "f64133b8",
   "metadata": {},
   "outputs": [
    {
     "name": "stdout",
     "output_type": "stream",
     "text": [
      "same_vowel_group(['toe', 'ocelot', 'maniac']) ➞ ['toe', 'ocelot']\n",
      "same_vowel_group(['many', 'carriage', 'emit', 'apricot', 'animal']) ➞ ['many', 'carriage', 'apricot', 'animal']\n",
      "same_vowel_group(['hoops', 'chuff', 'bot', 'bottom']) ➞ ['hoops', 'bot', 'bottom']\n"
     ]
    }
   ],
   "source": [
    "def same_vowel_group(in_list):\n",
    "    vowels = ['a','e','i','o','u']\n",
    "    first_ele = sorted(set([x for x in in_list[0] if x in vowels]))\n",
    "    output = []\n",
    "    for ele in range(0,len(in_list)):\n",
    "        vowels_in_word = [x for x in in_list[ele] if x in first_ele]\n",
    "        if sorted(first_ele) == sorted(set(vowels_in_word)):\n",
    "            output.append(in_list[ele])\n",
    "    print(f'same_vowel_group({in_list}) ➞ {output}')\n",
    "    \n",
    "same_vowel_group([\"toe\", \"ocelot\", \"maniac\"])\n",
    "same_vowel_group([\"many\", \"carriage\", \"emit\", \"apricot\", \"animal\"])\n",
    "same_vowel_group([\"hoops\", \"chuff\", \"bot\", \"bottom\"])"
   ]
  },
  {
   "cell_type": "markdown",
   "id": "d50ba3b8",
   "metadata": {},
   "source": [
    "## 6. Create a function that takes a list of more than three numbers and returns the Least Common Multiple (LCM).\n",
    "\n",
    "Examples:\n",
    "    \n",
    "lcm_of_list([1, 2, 3, 4, 5, 6, 7, 8, 9, 10]) ➞ 2520\n",
    "\n",
    "lcm_of_list([13, 6, 17, 18, 19, 20, 37]) ➞ 27965340\n",
    "\n",
    "lcm_of_list([44, 64, 12, 17, 65]) ➞ 2333760"
   ]
  },
  {
   "cell_type": "code",
   "execution_count": 17,
   "id": "77564dd1",
   "metadata": {},
   "outputs": [
    {
     "name": "stdout",
     "output_type": "stream",
     "text": [
      "lcm_of_list([1, 2, 3, 4, 5, 6, 7, 8, 9, 10]) ➞ 2520\n",
      "lcm_of_list([13, 6, 17, 18, 19, 20, 37]) ➞ 27965340\n",
      "lcm_of_list([44, 64, 12, 17, 65]) ➞ 2333760\n"
     ]
    }
   ],
   "source": [
    "import math\n",
    "def lcm_of_list(in_list):\n",
    "    output = in_list[0]\n",
    "    for ele in range(1,len(in_list)):\n",
    "        output = (output*in_list[ele])//math.gcd(output,in_list[ele])\n",
    "    print(f'lcm_of_list({in_list}) ➞ {output}')\n",
    "    \n",
    "lcm_of_list([1, 2, 3, 4, 5, 6, 7, 8, 9, 10])\n",
    "lcm_of_list([13, 6, 17, 18, 19, 20, 37])\n",
    "lcm_of_list([44, 64, 12, 17, 65])"
   ]
  },
  {
   "cell_type": "code",
   "execution_count": 20,
   "id": "0dd42a58",
   "metadata": {},
   "outputs": [],
   "source": [
    "# solution 2\n",
    "from math import gcd\n",
    "def lcm_of_list(lst):\n",
    "    a = [100, 200, 150]   \n",
    "    lcm = 1\n",
    "    for i in lst:\n",
    "        lcm = lcm*i//gcd(lcm, i)\n",
    "    return lcm"
   ]
  },
  {
   "cell_type": "code",
   "execution_count": 19,
   "id": "3ab8d5f4",
   "metadata": {},
   "outputs": [
    {
     "data": {
      "text/plain": [
       "2520"
      ]
     },
     "execution_count": 19,
     "metadata": {},
     "output_type": "execute_result"
    }
   ],
   "source": [
    "lcm_of_list([1, 2, 3, 4, 5, 6, 7, 8, 9, 10])"
   ]
  },
  {
   "cell_type": "code",
   "execution_count": 21,
   "id": "81a321af",
   "metadata": {},
   "outputs": [
    {
     "data": {
      "text/plain": [
       "27965340"
      ]
     },
     "execution_count": 21,
     "metadata": {},
     "output_type": "execute_result"
    }
   ],
   "source": [
    "lcm_of_list([13, 6, 17, 18, 19, 20, 37])"
   ]
  },
  {
   "cell_type": "code",
   "execution_count": 22,
   "id": "971e7ba6",
   "metadata": {},
   "outputs": [
    {
     "data": {
      "text/plain": [
       "2333760"
      ]
     },
     "execution_count": 22,
     "metadata": {},
     "output_type": "execute_result"
    }
   ],
   "source": [
    "lcm_of_list([44, 64, 12, 17, 65])"
   ]
  }
 ],
 "metadata": {
  "kernelspec": {
   "display_name": "Python 3 (ipykernel)",
   "language": "python",
   "name": "python3"
  },
  "language_info": {
   "codemirror_mode": {
    "name": "ipython",
    "version": 3
   },
   "file_extension": ".py",
   "mimetype": "text/x-python",
   "name": "python",
   "nbconvert_exporter": "python",
   "pygments_lexer": "ipython3",
   "version": "3.9.7"
  }
 },
 "nbformat": 4,
 "nbformat_minor": 5
}

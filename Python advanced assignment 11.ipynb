{
 "cells": [
  {
   "cell_type": "markdown",
   "id": "0d6bfbbd",
   "metadata": {},
   "source": [
    "# Python advanced assignment 11"
   ]
  },
  {
   "cell_type": "markdown",
   "id": "8bb33b91",
   "metadata": {},
   "source": [
    "## 1. Create a function that takes a list and returns a new list containing only prime numbers.\n",
    "\n",
    "Examples:\n",
    "    \n",
    "filter_primes([7, 9, 3, 9, 10, 11, 27]) ➞ [7, 3, 11]\n",
    "\n",
    "filter_primes([10007, 1009, 1007, 27, 147, 77, 1001, 70]) ➞ [10007, 1009]\n",
    "\n",
    "filter_primes([1009, 10, 10, 10, 3, 33, 9, 4, 1, 61, 63, 69, 1087, 1091, 1093, 1097]) ➞ [1009, 3, 61, 1087, 1091, 1093, 1097]"
   ]
  },
  {
   "cell_type": "code",
   "execution_count": 3,
   "id": "8c89f103",
   "metadata": {},
   "outputs": [],
   "source": [
    "def isPrime(num1): \n",
    "    if num1 > 1:\n",
    "        for i in range(2,num1):\n",
    "            if (num1%i) == 0:\n",
    "                #print(num1,'is not a prime')                \n",
    "                break\n",
    "        else:\n",
    "            return True\n",
    "    else:\n",
    "        return False\n",
    "    \n",
    "def filter_primes(lst):\n",
    "    new_lst = [i for i in lst if isPrime(i)]\n",
    "    return new_lst"
   ]
  },
  {
   "cell_type": "code",
   "execution_count": 4,
   "id": "16cf9756",
   "metadata": {},
   "outputs": [
    {
     "data": {
      "text/plain": [
       "[7, 3, 11]"
      ]
     },
     "execution_count": 4,
     "metadata": {},
     "output_type": "execute_result"
    }
   ],
   "source": [
    "filter_primes([7, 9, 3, 9, 10, 11, 27]) "
   ]
  },
  {
   "cell_type": "code",
   "execution_count": 5,
   "id": "7c8cddfa",
   "metadata": {},
   "outputs": [
    {
     "data": {
      "text/plain": [
       "[10007, 1009]"
      ]
     },
     "execution_count": 5,
     "metadata": {},
     "output_type": "execute_result"
    }
   ],
   "source": [
    "filter_primes([10007, 1009, 1007, 27, 147, 77, 1001, 70])"
   ]
  },
  {
   "cell_type": "code",
   "execution_count": 6,
   "id": "55b6ec7c",
   "metadata": {},
   "outputs": [
    {
     "data": {
      "text/plain": [
       "[1009, 3, 61, 1087, 1091, 1093, 1097]"
      ]
     },
     "execution_count": 6,
     "metadata": {},
     "output_type": "execute_result"
    }
   ],
   "source": [
    "filter_primes([1009, 10, 10, 10, 3, 33, 9, 4, 1, 61, 63, 69, 1087, 1091, 1093,1097])"
   ]
  },
  {
   "cell_type": "markdown",
   "id": "2e93d111",
   "metadata": {},
   "source": [
    "## 2. Once a water balloon pops, is soaks the area around it. The ground gets drier the further away you travel from the balloon.\n",
    "The effect of a water balloon popping can be modeled using a list. Create a function that takes a list which takes the pre-pop state and returns the state after the balloon is popped. The pre-pop state will contain at most a single balloon, whose size is represented by the only non-zero element.\n",
    "\n",
    "Examples:\n",
    "    \n",
    "pop([0, 0, 0, 0, 4, 0, 0, 0, 0]) ➞ [0, 1, 2, 3, 4, 3, 2, 1, 0]\n",
    "\n",
    "pop([0, 0, 0, 3, 0, 0, 0]) ➞ [0, 1, 2, 3, 2, 1, 0]\n",
    "\n",
    "pop([0, 0, 2, 0, 0]) ➞ [0, 1, 2, 1, 0]\n",
    "\n",
    "pop([0]) ➞ [0]"
   ]
  },
  {
   "cell_type": "code",
   "execution_count": 7,
   "id": "3f059aee",
   "metadata": {},
   "outputs": [],
   "source": [
    "def pop(lst):\n",
    "    length = len(lst)//2\n",
    "    fw = bw = length\n",
    "    while(bw > 0):\n",
    "        lst[bw] = length \n",
    "        lst[fw] = length\n",
    "        bw -= 1\n",
    "        fw += 1\n",
    "        length -= 1\n",
    "    return lst"
   ]
  },
  {
   "cell_type": "code",
   "execution_count": 8,
   "id": "7f844f24",
   "metadata": {},
   "outputs": [
    {
     "data": {
      "text/plain": [
       "[0, 1, 2, 3, 4, 3, 2, 1, 0]"
      ]
     },
     "execution_count": 8,
     "metadata": {},
     "output_type": "execute_result"
    }
   ],
   "source": [
    "pop([0, 0, 0, 0, 4, 0, 0, 0, 0])"
   ]
  },
  {
   "cell_type": "code",
   "execution_count": 9,
   "id": "55544945",
   "metadata": {},
   "outputs": [
    {
     "data": {
      "text/plain": [
       "[0, 1, 2, 3, 2, 1, 0]"
      ]
     },
     "execution_count": 9,
     "metadata": {},
     "output_type": "execute_result"
    }
   ],
   "source": [
    "pop([0, 0, 0, 3, 0, 0, 0])"
   ]
  },
  {
   "cell_type": "code",
   "execution_count": 10,
   "id": "42c90d12",
   "metadata": {},
   "outputs": [
    {
     "data": {
      "text/plain": [
       "[0, 1, 2, 1, 0]"
      ]
     },
     "execution_count": 10,
     "metadata": {},
     "output_type": "execute_result"
    }
   ],
   "source": [
    "pop([0, 0, 2, 0, 0])"
   ]
  },
  {
   "cell_type": "code",
   "execution_count": 11,
   "id": "706043a2",
   "metadata": {},
   "outputs": [
    {
     "data": {
      "text/plain": [
       "[0]"
      ]
     },
     "execution_count": 11,
     "metadata": {},
     "output_type": "execute_result"
    }
   ],
   "source": [
    "pop([0])"
   ]
  },
  {
   "cell_type": "markdown",
   "id": "262e3347",
   "metadata": {},
   "source": [
    "## 3. \"Loves me, loves me not\" is a traditional game in which a person plucks off all the petals of a flower one by one, saying the phrase \"Loves me\" and \"Loves me not\" when determining whether the one that they love, loves them back.\n",
    "Given a number of petals, return a string which repeats the phrases \"Loves me\" and \"Loves me not\" for every alternating petal, and return the last phrase in all caps. Remember to put a comma and space between phrases.\n",
    "\n",
    "Examples:\n",
    "\n",
    "loves_me(3) ➞ \"Loves me, Loves me not, LOVES ME\"\n",
    "\n",
    "loves_me(6) ➞ \"Loves me, Loves me not, Loves me, Loves me not, Loves me, LOVES ME NOT\"\n",
    "\n",
    "loves_me(1) ➞ \"LOVES ME\""
   ]
  },
  {
   "cell_type": "code",
   "execution_count": 12,
   "id": "4bc07a0d",
   "metadata": {},
   "outputs": [
    {
     "name": "stdout",
     "output_type": "stream",
     "text": [
      "loves_me(3) ➞ Loves me, Loves me not, LOVES ME\n",
      "loves_me(6) ➞ Loves me, Loves me not, Loves me, Loves me not, Loves me, LOVES ME NOT\n",
      "loves_me(1) ➞ LOVES ME\n"
     ]
    }
   ],
   "source": [
    "def loves_me(in_num):\n",
    "    out_string = []\n",
    "    for ele in range(in_num):\n",
    "        if ele%2 ==0:\n",
    "            out_string.append('Loves me')\n",
    "        else:\n",
    "            out_string.append('Loves me not')\n",
    "    out_string[-1] = out_string[-1].upper()\n",
    "    print(f'loves_me({in_num}) ➞ {\", \".join(out_string)}')\n",
    "    \n",
    "loves_me(3)\n",
    "loves_me(6)\n",
    "loves_me(1)"
   ]
  },
  {
   "cell_type": "markdown",
   "id": "f1d546fc",
   "metadata": {},
   "source": [
    "## 4. Write a function that sorts each string in a list by the letter in alphabetic ascending order (a-z).\n",
    "\n",
    "Examples:\n",
    "\n",
    "sort_by_letter([\"932c\", \"832u32\", \"2344b\"]) ➞ [\"2344b\", \"932c\", \"832u32\"]\n",
    "\n",
    "sort_by_letter([\"99a\", \"78b\", \"c2345\", \"11d\"]) ➞ [\"99a\", \"78b\", \"c2345\", \"11d\"]\n",
    "\n",
    "sort_by_letter([\"572z\", \"5y5\", \"304q2\"]) ➞ [\"304q2\", \"5y5\", \"572z\"]\n",
    "\n",
    "sort_by_letter([]) ➞ []"
   ]
  },
  {
   "cell_type": "code",
   "execution_count": 13,
   "id": "b743392b",
   "metadata": {},
   "outputs": [
    {
     "name": "stdout",
     "output_type": "stream",
     "text": [
      "sort_by_letter(['932c', '832u32', '2344b']) ➞ ['2344b', '932c', '832u32']\n",
      "sort_by_letter(['99a', '78b', 'c2345', '11d']) ➞ ['99a', '78b', 'c2345', '11d']\n",
      "sort_by_letter(['572z', '5y5', '304q2']) ➞ ['304q2', '5y5', '572z']\n",
      "sort_by_letter([]) ➞ []\n"
     ]
    }
   ],
   "source": [
    "def sort_by_letter(in_list):\n",
    "    temp_list = []\n",
    "    output = []\n",
    "    for ele in in_list:\n",
    "        for char in ele:\n",
    "            if char.isalpha():\n",
    "                temp_list.append(char)\n",
    "    temp_list.sort()\n",
    "    for char in temp_list:\n",
    "        for ele in in_list:\n",
    "            if char in ele:\n",
    "                output.append(ele)\n",
    "    \n",
    "    print(f'sort_by_letter({in_list}) ➞ {output}')\n",
    "                \n",
    "sort_by_letter([\"932c\", \"832u32\", \"2344b\"])\n",
    "sort_by_letter([\"99a\", \"78b\", \"c2345\", \"11d\"])\n",
    "sort_by_letter([\"572z\", \"5y5\", \"304q2\"])\n",
    "sort_by_letter([])"
   ]
  },
  {
   "cell_type": "markdown",
   "id": "7b32b0c6",
   "metadata": {},
   "source": [
    "## 5. There are three cups on a table, at positions A, B, and C. At the start, there\n",
    "is a ball hidden under the cup at position B.\n",
    "\n",
    "However, I perform several swaps on the cups, which is notated as two\n",
    "letters. For example, if I swap the cups at positions A and B, I could notate\n",
    "this as AB or BA.\n",
    "Create a function that returns the letter position that the ball is at, once I finish\n",
    "swapping the cups. The swaps will be given to you as a list.\n",
    "\n",
    "Example\n",
    "\n",
    "cup_swapping(['AB', 'CA', 'AB']) ➞ 'C'\n",
    "\n",
    "## Ball begins at position B.\n",
    "\n",
    "## Cups A and B swap, so the ball is at position A.\n",
    "\n",
    "## Cups C and A swap, so the ball is at position C.\n",
    "\n",
    "## Cups A and B swap, but the ball is at position C, so it doesn't move."
   ]
  },
  {
   "cell_type": "code",
   "execution_count": 14,
   "id": "430a2c46",
   "metadata": {},
   "outputs": [
    {
     "name": "stdout",
     "output_type": "stream",
     "text": [
      "C\n"
     ]
    }
   ],
   "source": [
    "def cup_swapping(l):\n",
    "    for i in l:\n",
    "        if \"B\" in i:\n",
    "            ball= i.replace('B', '')\n",
    "            y=+1\n",
    "            break\n",
    "    for j in range(y,len(l)):\n",
    "        if ball in l[j]:\n",
    "            ball = l[j].replace(ball,'')\n",
    "    return ball\n",
    "\n",
    "print(cup_swapping(['CA','AB', 'CA', 'CB','AB']))"
   ]
  }
 ],
 "metadata": {
  "kernelspec": {
   "display_name": "Python 3 (ipykernel)",
   "language": "python",
   "name": "python3"
  },
  "language_info": {
   "codemirror_mode": {
    "name": "ipython",
    "version": 3
   },
   "file_extension": ".py",
   "mimetype": "text/x-python",
   "name": "python",
   "nbconvert_exporter": "python",
   "pygments_lexer": "ipython3",
   "version": "3.9.7"
  }
 },
 "nbformat": 4,
 "nbformat_minor": 5
}
